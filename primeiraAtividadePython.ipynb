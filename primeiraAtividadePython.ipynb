{
 "cells": [
  {
   "cell_type": "code",
   "execution_count": 24,
   "metadata": {
    "colab": {
     "base_uri": "https://localhost:8080/"
    },
    "id": "87tLbfzdE6Qk",
    "outputId": "dd5de704-dcec-4dae-87e3-9c425df73e1a"
   },
   "outputs": [
    {
     "name": "stdout",
     "output_type": "stream",
     "text": [
      "Digite um numero: 67\n",
      "Digite outro numero: 21\n",
      "O resultado da soma é: 88\n"
     ]
    }
   ],
   "source": [
    " num1 = int(input('Digite um numero: '))\n",
    "\n",
    " num2 = int(input('Digite outro numero: '))\n",
    "\n",
    "soma = num1 + num2\n",
    "num_convert = float(soma)\n",
    "print('O resultado da soma é:', soma)\n",
    "\n",
    "\n",
    "\n",
    "\n"
   ]
  },
  {
   "cell_type": "code",
   "execution_count": 27,
   "metadata": {
    "colab": {
     "base_uri": "https://localhost:8080/"
    },
    "id": "xwvXBvkhaNNW",
    "outputId": "a435e543-86df-4f7f-b35a-7da2ad58adfa"
   },
   "outputs": [
    {
     "name": "stdout",
     "output_type": "stream",
     "text": [
      "Digite um numero: 23\n",
      "Digite outro numero: 345\n",
      "O resultado da soma é: 368\n",
      "soma <class 'int'>\n",
      "soma <class 'float'>\n",
      "soma 368.0\n"
     ]
    }
   ],
   "source": [
    "num1 = int(input('Digite um numero: '))\n",
    "\n",
    "num2 = int(input('Digite outro numero: '))\n",
    "\n",
    "soma = num1 + num2\n",
    "num_convert = float(soma)\n",
    "print('O resultado da soma é:', soma)\n",
    "soma = num1 + num2\n",
    "\n",
    "type(soma)\n",
    "print('soma', type(soma))\n",
    "\n",
    "num_convert = float(soma)\n",
    "print('soma', type(num_convert))\n",
    "\n",
    "num_float = float(soma)\n",
    "print('soma', num_float)\n",
    "\n"
   ]
  },
  {
   "cell_type": "code",
   "execution_count": 28,
   "metadata": {
    "colab": {
     "base_uri": "https://localhost:8080/"
    },
    "id": "WqfRft-ofy8y",
    "outputId": "f142750c-dd2c-48a9-c74b-ef1e4f074dca"
   },
   "outputs": [
    {
     "name": "stdout",
     "output_type": "stream",
     "text": [
      "Digite o primeiro número: 12\n",
      "Digite o segundo número: 10\n",
      "Resultados das operações:\n",
      "Soma: 22.0\n",
      "Subtração: 2.0\n",
      "Multiplicação: 120.0\n",
      "Divisão: 1.2\n"
     ]
    }
   ],
   "source": [
    "\n",
    "num1 = float(input(\"Digite o primeiro número: \"))\n",
    "num2 = float(input(\"Digite o segundo número: \"))\n",
    "\n",
    "\n",
    "soma = num1 + num2\n",
    "subtracao = num1 - num2\n",
    "multiplicacao = num1 * num2\n",
    "\n",
    "if num2 != 0:\n",
    "    divisao = num1 / num2\n",
    "else:\n",
    "    divisao = \"Indefinida (não é possível dividir por zero)\"\n",
    "\n",
    "print(\"Resultados das operações:\")\n",
    "print(f\"Soma: {soma}\")\n",
    "print(f\"Subtração: {subtracao}\")\n",
    "print(f\"Multiplicação: {multiplicacao}\")\n",
    "print(f\"Divisão: {divisao}\")"
   ]
  },
  {
   "cell_type": "code",
   "execution_count": 46,
   "metadata": {
    "colab": {
     "base_uri": "https://localhost:8080/"
    },
    "id": "JxM84xt8ga__",
    "outputId": "9686af0b-6a5c-4cad-9b0f-c8e8dc7380c1"
   },
   "outputs": [
    {
     "name": "stdout",
     "output_type": "stream",
     "text": [
      "\n",
      "Escolha uma operação:\n",
      "1. Soma\n",
      "2. Subtração\n",
      "3. Multiplicação\n",
      "4. Divisão\n",
      "5. Sair\n",
      "Digite o número da operação desejada: 2\n",
      "Digite o primeiro número: 13\n",
      "Digite o segundo número: 12\n",
      "Resultado da subtração: 1.0\n",
      "\n",
      "Escolha uma operação:\n",
      "1. Soma\n",
      "2. Subtração\n",
      "3. Multiplicação\n",
      "4. Divisão\n",
      "5. Sair\n",
      "Digite o número da operação desejada: 5\n",
      "Encerrando o programa. Até mais!\n"
     ]
    }
   ],
   "source": [
    "while True:\n",
    "    print(\"\\nEscolha uma operação:\")\n",
    "    print(\"1. Soma\")\n",
    "    print(\"2. Subtração\")\n",
    "    print(\"3. Multiplicação\")\n",
    "    print(\"4. Divisão\")\n",
    "    print(\"5. Sair\")\n",
    "\n",
    "\n",
    "    escolha = input(\"Digite o número da operação desejada: \")\n",
    "\n",
    "    if escolha == \"5\":\n",
    "        print(\"Encerrando o programa. Até mais!\")\n",
    "        break\n",
    "\n",
    "    if escolha in [\"1\", \"2\", \"3\", \"4\"]:\n",
    "\n",
    "        num1 = float(input(\"Digite o primeiro número: \"))\n",
    "        num2 = float(input(\"Digite o segundo número: \"))\n",
    "\n",
    "\n",
    "        if escolha == \"1\":\n",
    "            resultado = num1 + num2\n",
    "            print(f\"Resultado da soma: {resultado}\")\n",
    "        elif escolha == \"2\":\n",
    "            resultado = num1 - num2\n",
    "            print(f\"Resultado da subtração: {resultado}\")\n",
    "        elif escolha == \"3\":\n",
    "            resultado = num1 * num2\n",
    "            print(f\"Resultado da multiplicação: {resultado}\")\n",
    "        elif escolha == \"4\":\n",
    "            if num2 != 0:\n",
    "                resultado = num1 / num2\n",
    "                print(f\"Resultado da divisão: {resultado}\")\n",
    "            else:\n",
    "                print(\"Divisão por zero não é permitida!\")\n",
    "    else:\n",
    "        print(\"Opção inválida. Tente novamente!\")\n"
   ]
  }
 ],
 "metadata": {
  "colab": {
   "provenance": []
  },
  "kernelspec": {
   "display_name": "Python 3",
   "name": "python3"
  },
  "language_info": {
   "name": "python"
  }
 },
 "nbformat": 4,
 "nbformat_minor": 0
}
